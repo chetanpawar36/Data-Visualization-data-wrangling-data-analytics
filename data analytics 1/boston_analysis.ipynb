{
 "cells": [
  {
   "cell_type": "code",
   "execution_count": 1,
   "id": "625735ea-08bc-4b08-b9a2-932b119b65f4",
   "metadata": {},
   "outputs": [],
   "source": [
    "import numpy as np\n",
    "import pandas as pd\n",
    "import matplotlib.pyplot as plt\n",
    "%matplotlib inline\n",
    "import warnings\n",
    "warnings.filterwarnings('ignore')"
   ]
  },
  {
   "cell_type": "code",
   "execution_count": 2,
   "id": "66c12646-9c4e-4cb2-ba46-62ce7b6509c6",
   "metadata": {},
   "outputs": [
    {
     "data": {
      "text/html": [
       "<div>\n",
       "<style scoped>\n",
       "    .dataframe tbody tr th:only-of-type {\n",
       "        vertical-align: middle;\n",
       "    }\n",
       "\n",
       "    .dataframe tbody tr th {\n",
       "        vertical-align: top;\n",
       "    }\n",
       "\n",
       "    .dataframe thead th {\n",
       "        text-align: right;\n",
       "    }\n",
       "</style>\n",
       "<table border=\"1\" class=\"dataframe\">\n",
       "  <thead>\n",
       "    <tr style=\"text-align: right;\">\n",
       "      <th></th>\n",
       "      <th>RM</th>\n",
       "      <th>LSTAT</th>\n",
       "      <th>PTRATIO</th>\n",
       "      <th>MEDV</th>\n",
       "    </tr>\n",
       "  </thead>\n",
       "  <tbody>\n",
       "    <tr>\n",
       "      <th>0</th>\n",
       "      <td>6.575</td>\n",
       "      <td>4.98</td>\n",
       "      <td>15.3</td>\n",
       "      <td>504000.0</td>\n",
       "    </tr>\n",
       "    <tr>\n",
       "      <th>1</th>\n",
       "      <td>6.421</td>\n",
       "      <td>9.14</td>\n",
       "      <td>17.8</td>\n",
       "      <td>453600.0</td>\n",
       "    </tr>\n",
       "    <tr>\n",
       "      <th>2</th>\n",
       "      <td>7.185</td>\n",
       "      <td>4.03</td>\n",
       "      <td>17.8</td>\n",
       "      <td>728700.0</td>\n",
       "    </tr>\n",
       "    <tr>\n",
       "      <th>3</th>\n",
       "      <td>6.998</td>\n",
       "      <td>2.94</td>\n",
       "      <td>18.7</td>\n",
       "      <td>701400.0</td>\n",
       "    </tr>\n",
       "    <tr>\n",
       "      <th>4</th>\n",
       "      <td>7.147</td>\n",
       "      <td>5.33</td>\n",
       "      <td>18.7</td>\n",
       "      <td>760200.0</td>\n",
       "    </tr>\n",
       "  </tbody>\n",
       "</table>\n",
       "</div>"
      ],
      "text/plain": [
       "      RM  LSTAT  PTRATIO      MEDV\n",
       "0  6.575   4.98     15.3  504000.0\n",
       "1  6.421   9.14     17.8  453600.0\n",
       "2  7.185   4.03     17.8  728700.0\n",
       "3  6.998   2.94     18.7  701400.0\n",
       "4  7.147   5.33     18.7  760200.0"
      ]
     },
     "execution_count": 2,
     "metadata": {},
     "output_type": "execute_result"
    }
   ],
   "source": [
    "df = pd.read_csv(\"housing.csv\")\n",
    "df.head()"
   ]
  },
  {
   "cell_type": "code",
   "execution_count": 3,
   "id": "715f64f9-d507-4ef5-af68-3589fa787f18",
   "metadata": {},
   "outputs": [],
   "source": [
    "X = df[['RM','LSTAT','PTRATIO']]\n",
    "Y = df[['MEDV']]"
   ]
  },
  {
   "cell_type": "code",
   "execution_count": 4,
   "id": "273eb487-468c-4d99-9061-99e3ca00d9de",
   "metadata": {},
   "outputs": [],
   "source": [
    "from sklearn.model_selection import train_test_split\n",
    "X_train, x_test, Y_train, y_test = train_test_split(X, Y, test_size = 0.3, random_state = 42)"
   ]
  },
  {
   "cell_type": "code",
   "execution_count": 5,
   "id": "44655193-12ce-4700-b77b-cc5ca6a1530f",
   "metadata": {},
   "outputs": [],
   "source": [
    "from sklearn.preprocessing import StandardScaler\n",
    "sc = StandardScaler()\n",
    "X_train = sc.fit_transform(X_train)\n",
    "x_test = sc.fit_transform(x_test)"
   ]
  },
  {
   "cell_type": "code",
   "execution_count": 6,
   "id": "72fe49f2-9a67-46f5-a111-0e4c360e6aaa",
   "metadata": {},
   "outputs": [],
   "source": [
    "from sklearn.linear_model import LinearRegression\n",
    "lr = LinearRegression()\n",
    "lr.fit(X_train, Y_train)\n",
    "y_pred = lr.predict(x_test)"
   ]
  },
  {
   "cell_type": "code",
   "execution_count": 7,
   "id": "49df15fe-ba08-4de0-86c2-b27047b421c4",
   "metadata": {},
   "outputs": [
    {
     "name": "stdout",
     "output_type": "stream",
     "text": [
      "[[347601.28410273]\n",
      " [533923.56352585]\n",
      " [432015.38401136]\n",
      " [226371.46731514]\n",
      " [338442.28933378]\n",
      " [410687.87905862]\n",
      " [255085.6496009 ]\n",
      " [765897.84407095]\n",
      " [365512.18598877]\n",
      " [625489.4525274 ]\n",
      " [478155.58960358]\n",
      " [373031.77709601]\n",
      " [260061.90389556]\n",
      " [258200.77439273]\n",
      " [406729.07707269]\n",
      " [555033.0881696 ]\n",
      " [402677.55955888]\n",
      " [375952.20064046]\n",
      " [381319.020201  ]\n",
      " [436460.66243619]\n",
      " [480946.72465774]\n",
      " [482776.20587298]\n",
      " [384104.40286713]\n",
      " [696779.75242921]\n",
      " [490360.89171788]\n",
      " [494761.72535742]\n",
      " [525698.66552375]\n",
      " [681265.98542682]\n",
      " [734637.86857607]\n",
      " [152050.14931311]\n",
      " [546471.06083479]\n",
      " [232217.72369473]\n",
      " [566678.93736061]\n",
      " [533951.60068523]\n",
      " [302812.56960095]\n",
      " [526743.52534659]\n",
      " [678308.23837899]\n",
      " [522897.02765304]\n",
      " [720647.44288161]\n",
      " [689495.22064833]\n",
      " [436576.92771793]\n",
      " [421644.30030991]\n",
      " [319277.90920569]\n",
      " [471993.11947203]\n",
      " [398049.88663116]\n",
      " [618045.35864736]\n",
      " [352843.44563062]\n",
      " [404146.59767472]\n",
      " [424531.21952511]\n",
      " [401680.29611158]\n",
      " [274409.57316322]\n",
      " [622034.54295942]\n",
      " [606097.77041311]\n",
      " [439560.29572181]\n",
      " [529370.20803514]\n",
      " [530348.83542711]\n",
      " [377106.0941929 ]\n",
      " [560394.78526469]\n",
      " [454202.92006332]\n",
      " [270161.10928495]\n",
      " [500611.52436056]\n",
      " [400483.06652747]\n",
      " [549706.47299106]\n",
      " [493756.35698279]\n",
      " [610736.98091818]\n",
      " [826975.83649629]\n",
      " [561753.41757762]\n",
      " [569839.51664   ]\n",
      " [-23922.0890207 ]\n",
      " [347720.60999755]\n",
      " [276335.97813649]\n",
      " [425489.34038702]\n",
      " [438375.61276982]\n",
      " [476972.96462289]\n",
      " [356735.63289345]\n",
      " [479145.12239571]\n",
      " [486441.48759758]\n",
      " [439620.62108872]\n",
      " [546850.08689685]\n",
      " [437093.81730695]\n",
      " [540003.77787012]\n",
      " [610173.22069401]\n",
      " [382025.66381659]\n",
      " [276223.13874097]\n",
      " [501213.05635307]\n",
      " [606782.58042444]\n",
      " [455598.25109436]\n",
      " [526090.10734427]\n",
      " [396951.66644033]\n",
      " [431375.83134448]\n",
      " [480451.19921116]\n",
      " [418912.94300964]\n",
      " [387238.88171194]\n",
      " [508096.66219818]\n",
      " [410983.15377836]\n",
      " [604123.14843743]\n",
      " [484932.93550692]\n",
      " [277203.31126978]\n",
      " [437481.22612258]\n",
      " [283142.10883807]\n",
      " [445651.19714566]\n",
      " [425466.78004405]\n",
      " [559422.7913246 ]\n",
      " [312878.98514786]\n",
      " [402335.2225684 ]\n",
      " [424219.36130668]\n",
      " [441463.37342019]\n",
      " [518580.41258243]\n",
      " [567020.7788324 ]\n",
      " [510792.94146296]\n",
      " [332884.65232359]\n",
      " [627452.21214249]\n",
      " [779517.08270557]\n",
      " [396852.32036269]\n",
      " [177166.00930181]\n",
      " [419468.62885315]\n",
      " [795560.36761054]\n",
      " [362427.24735889]\n",
      " [346816.34566983]\n",
      " [550632.45292944]\n",
      " [428861.72824262]\n",
      " [404695.08957327]\n",
      " [430635.55701578]\n",
      " [ 86308.90138749]\n",
      " [346278.99453049]\n",
      " [795369.8074184 ]\n",
      " [455283.50172265]\n",
      " [720979.16806097]\n",
      " [683553.51037908]\n",
      " [350877.63602793]\n",
      " [376910.65881488]\n",
      " [413103.7033676 ]\n",
      " [513735.62083916]\n",
      " [550373.92966967]\n",
      " [723733.2085772 ]\n",
      " [514013.84160007]\n",
      " [589344.35679738]\n",
      " [367977.08556007]\n",
      " [297417.85404874]\n",
      " [607065.03356857]\n",
      " [455018.65691416]\n",
      " [526821.1320113 ]\n",
      " [584893.00859321]\n",
      " [498102.073264  ]\n",
      " [462940.98239431]\n",
      " [464240.1823053 ]\n",
      " [363171.87820006]]\n"
     ]
    }
   ],
   "source": [
    "print(y_pred)"
   ]
  },
  {
   "cell_type": "code",
   "execution_count": 8,
   "id": "b338d37b-152c-4501-ab82-2f9d25a325ab",
   "metadata": {},
   "outputs": [
    {
     "name": "stdout",
     "output_type": "stream",
     "text": [
      "Root Mead squared Error is:\n",
      "89987.31170641544\n"
     ]
    }
   ],
   "source": [
    "from sklearn.metrics import mean_squared_error\n",
    "rmse = np.sqrt(mean_squared_error(y_test, y_pred))\n",
    "print(\"Root Mead squared Error is:\")\n",
    "print(rmse)"
   ]
  },
  {
   "cell_type": "code",
   "execution_count": 9,
   "id": "7cae0231-a92c-44c3-9173-5cfa1b1e0ddc",
   "metadata": {},
   "outputs": [
    {
     "name": "stdout",
     "output_type": "stream",
     "text": [
      "Training accuracy is:\n"
     ]
    },
    {
     "data": {
      "text/plain": [
       "0.7220172075811035"
      ]
     },
     "execution_count": 9,
     "metadata": {},
     "output_type": "execute_result"
    }
   ],
   "source": [
    "print(\"Training accuracy is:\")\n",
    "lr.score(X_train, Y_train)"
   ]
  },
  {
   "cell_type": "code",
   "execution_count": 10,
   "id": "b67a2bd8-3d7f-4b6f-998d-9006b4fa566f",
   "metadata": {},
   "outputs": [
    {
     "name": "stdout",
     "output_type": "stream",
     "text": [
      "Testing accuracy is:\n"
     ]
    },
    {
     "data": {
      "text/plain": [
       "0.6449952009040019"
      ]
     },
     "execution_count": 10,
     "metadata": {},
     "output_type": "execute_result"
    }
   ],
   "source": [
    "print(\"Testing accuracy is:\")\n",
    "lr.score(x_test, y_test)"
   ]
  }
 ],
 "metadata": {
  "kernelspec": {
   "display_name": "Python 3 (ipykernel)",
   "language": "python",
   "name": "python3"
  },
  "language_info": {
   "codemirror_mode": {
    "name": "ipython",
    "version": 3
   },
   "file_extension": ".py",
   "mimetype": "text/x-python",
   "name": "python",
   "nbconvert_exporter": "python",
   "pygments_lexer": "ipython3",
   "version": "3.13.1"
  }
 },
 "nbformat": 4,
 "nbformat_minor": 5
}
